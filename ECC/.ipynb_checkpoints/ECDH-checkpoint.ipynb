{
 "cells": [
  {
   "cell_type": "markdown",
   "id": "8f9dd03a-4ffb-4e78-b744-4750e7ab81bd",
   "metadata": {},
   "source": [
    "# Elliptic Curve Diffie Hellman"
   ]
  },
  {
   "cell_type": "raw",
   "id": "744c088d-c784-445d-b4d5-a4bd5b3518ff",
   "metadata": {},
   "source": [
    "We start by defining a simple elliptic curve class and its operation i.e Point Addition, Point Doubling and Point Multiplication"
   ]
  },
  {
   "cell_type": "code",
   "execution_count": 32,
   "id": "1c631968-b7d2-4059-8e44-6900cf2f16be",
   "metadata": {},
   "outputs": [],
   "source": [
    "INFINITY = None\n",
    "\n",
    "\n",
    "class EllipticCurve:\n",
    "    def __init__(self, a, b, p, G, n, h):\n",
    "        self.a = a\n",
    "        self.b = b\n",
    "        self.p = p\n",
    "        self.G = G\n",
    "        self.n = n\n",
    "        self.h = h\n",
    "\n",
    "    def add(self, P, Q):\n",
    "        if P == INFINITY:\n",
    "            return Q\n",
    "        if Q == INFINITY:\n",
    "            return P\n",
    "\n",
    "        (x1, y1) = P\n",
    "        (x2, y2) = Q\n",
    "\n",
    "        # If we add points symmetrical with respect to Y-axis\n",
    "        if self.equal_modp(x1, x2) and self.equal_modp(y1, -y2):\n",
    "            return INFINITY\n",
    "\n",
    "        # Calculation slope for:\n",
    "        # Point doubling\n",
    "        if self.equal_modp(x1, x2) and self.equal_modp(y1, y2):\n",
    "            u = self.reduce_modp((3 * x1 * x1 + self.a) * self.inverse_modp(2 * y1))\n",
    "        # Point addition\n",
    "        else:\n",
    "            u = self.reduce_modp((y1 - y2) * self.inverse_modp(x1 - x2))\n",
    "\n",
    "        v = self.reduce_modp(y1 - u * x1)\n",
    "        x3 = self.reduce_modp(u * u - x1 - x2)\n",
    "        y3 = self.reduce_modp(-u * x3 - v)\n",
    "        return x3, y3\n",
    "\n",
    "    def multiply(self, k, P):\n",
    "        # Double and add algorithm from least significant bit to most significant bit\n",
    "        Q = INFINITY\n",
    "        while k != 0:\n",
    "            if k & 1 != 0:\n",
    "                Q = self.add(Q, P)\n",
    "            P = self.add(P, P)\n",
    "            k >>= 1\n",
    "        return Q\n",
    "\n",
    "    def reduce_modp(self, x):\n",
    "        return x % self.p\n",
    "\n",
    "    def equal_modp(self, x, y):\n",
    "        return self.reduce_modp(x - y) == 0\n",
    "\n",
    "    def inverse_modp(self, x):\n",
    "        if self.reduce_modp(x) == 0:\n",
    "            return None\n",
    "        return pow(x, self.p - 2, self.p)#From Fermat's therorem supposing p is prime\n",
    "\n",
    "    def is_point_on_curve(self, x, y):\n",
    "        return self.equal_modp(y * y, x * x * x + self.a * x + self.b)"
   ]
  },
  {
   "cell_type": "markdown",
   "id": "f86d11c1-1a38-43e6-b12d-0592d040fe69",
   "metadata": {},
   "source": [
    "First, Alice and Bob choose an elliptic curve. Let's say it's NIST P-224 which has these parameters :"
   ]
  },
  {
   "cell_type": "code",
   "execution_count": 33,
   "id": "507dc9ab-7abf-4b3a-bd61-3431a6a9f43e",
   "metadata": {},
   "outputs": [],
   "source": [
    "p = 23\n",
    "a = -3\n",
    "b = 18958286285566608000408668544493926415504680968679321075787234672564\n",
    "\n",
    "Gx = 19277929113566293071110308034699488026831934219452440156649784352033\n",
    "Gy = 19926808758034470970197974370888749184205991990603949537637343198772\n",
    "G = (Gx, Gy)\n",
    "\n",
    "n = 26959946667150639794667015087019625940457807714424391721682722368061\n",
    "h = 1\n",
    "P224 = EllipticCurve(a, b, p, G, n, h)\n",
    "# as specified in https://doi.org/10.6028/NIST.SP.800-186"
   ]
  },
  {
   "cell_type": "markdown",
   "id": "a1104d8f-b950-4656-885b-bc2fb46eef85",
   "metadata": {},
   "source": [
    "After that, each one generates his private key(random integer) :"
   ]
  },
  {
   "cell_type": "code",
   "execution_count": 34,
   "id": "93c8a6cb-592c-4ba9-8338-f09607221e83",
   "metadata": {},
   "outputs": [
    {
     "name": "stdout",
     "output_type": "stream",
     "text": [
      "Alice prka= 5267097285810276234098287713795220123804508800007370965018422007444\n",
      "Bob prkb= 11800237104009462717038422864898912315791792588849912235953827315360\n"
     ]
    }
   ],
   "source": [
    "import random\n",
    "prka = random.randint(2,n-1)\n",
    "print(\"Alice prka=\",prka)\n",
    "\n",
    "prkb = random.randint(2,n-1)\n",
    "print(\"Bob prkb=\",prkb)"
   ]
  },
  {
   "cell_type": "markdown",
   "id": "0b21c5c6-80f9-4a67-982f-04a86cd9814d",
   "metadata": {},
   "source": [
    "Then, Alice and Bob generate their public keys and share them with eachother :"
   ]
  },
  {
   "cell_type": "code",
   "execution_count": 35,
   "id": "d9ab8c07-0ef7-4c9a-837d-7402a52dc5d1",
   "metadata": {},
   "outputs": [
    {
     "name": "stdout",
     "output_type": "stream",
     "text": [
      "Alice pubkA= (10, 9)\n",
      "Bob pubkB= (15, 16)\n"
     ]
    }
   ],
   "source": [
    "pubkA = P224.multiply(prka, G)\n",
    "print(\"Alice pubkA=\",pubkA)\n",
    "\n",
    "pubkB = P224.multiply(prkb, G)\n",
    "print(\"Bob pubkB=\",pubkB)"
   ]
  },
  {
   "cell_type": "markdown",
   "id": "2c5ce350-aa5f-4806-9c99-b4d28d77d5b7",
   "metadata": {},
   "source": [
    "After receiving them, Alice and Bob can calculate the secrete key by multiplying their respective private keys by the public key the received :"
   ]
  },
  {
   "cell_type": "code",
   "execution_count": 36,
   "id": "dfc3a503-7c7b-428c-b254-3483fcec1814",
   "metadata": {},
   "outputs": [
    {
     "name": "stdout",
     "output_type": "stream",
     "text": [
      "keyAB= (20, 17)\n",
      "keyBA= (20, 17)\n"
     ]
    }
   ],
   "source": [
    "keyAB = P224.multiply(prka, pubkB)\n",
    "print(\"keyAB=\",keyAB)\n",
    "keyBA = P224.multiply(prkb, pubkA)\n",
    "print(\"keyBA=\",keyBA)"
   ]
  },
  {
   "cell_type": "markdown",
   "id": "7ec5a993-389e-4333-9fd4-b35d0e426e6f",
   "metadata": {},
   "source": [
    "We can see that Alice and Bob have the same secret key and can now use it to encrypt their messages."
   ]
  }
 ],
 "metadata": {
  "kernelspec": {
   "display_name": "Python 3 (ipykernel)",
   "language": "python",
   "name": "python3"
  },
  "language_info": {
   "codemirror_mode": {
    "name": "ipython",
    "version": 3
   },
   "file_extension": ".py",
   "mimetype": "text/x-python",
   "name": "python",
   "nbconvert_exporter": "python",
   "pygments_lexer": "ipython3",
   "version": "3.10.6"
  }
 },
 "nbformat": 4,
 "nbformat_minor": 5
}
